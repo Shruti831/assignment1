{
  "nbformat": 4,
  "nbformat_minor": 0,
  "metadata": {
    "colab": {
      "provenance": [],
      "authorship_tag": "ABX9TyPOn7+RhU8eQMwidHTAGHTz",
      "include_colab_link": true
    },
    "kernelspec": {
      "name": "python3",
      "display_name": "Python 3"
    },
    "language_info": {
      "name": "python"
    }
  },
  "cells": [
    {
      "cell_type": "markdown",
      "metadata": {
        "id": "view-in-github",
        "colab_type": "text"
      },
      "source": [
        "<a href=\"https://colab.research.google.com/github/Shruti831/assignment1/blob/main/Assignment1_Python.ipynb\" target=\"_parent\"><img src=\"https://colab.research.google.com/assets/colab-badge.svg\" alt=\"Open In Colab\"/></a>"
      ]
    },
    {
      "cell_type": "code",
      "execution_count": 1,
      "metadata": {
        "id": "mzDdTaZqsQ4g"
      },
      "outputs": [],
      "source": [
        "#Explain the key features of Python that make it a popular choice for programming."
      ]
    },
    {
      "cell_type": "code",
      "source": [
        "#Simple Syntax: Python's clean and readable syntax makes it easy for beginners to learn and for developers to write efficient code quickly.\n",
        "#Versatility: Python can be used in web development, data science, automation, AI, and more.\n",
        "#Large Standard Library: Python comes with a vast collection of built-in modules and libraries that simplify complex tasks like data manipulation, web development, and file handling.\n",
        "#Cross-Platform Compatibility: Python runs on all major operating systems (Windows, macOS, Linux), ensuring compatibility across platforms.\n",
        "#Extensive Community Support: Python has a large and active community that contributes to extensive documentation, tutorials."
      ],
      "metadata": {
        "id": "aU4j5HaYsnJi"
      },
      "execution_count": 2,
      "outputs": []
    },
    {
      "cell_type": "code",
      "source": [
        "#Describe the role of predefined keywords in Python and provide examples of how they are used in a program"
      ],
      "metadata": {
        "id": "UYyhQ2OotWd3"
      },
      "execution_count": 3,
      "outputs": []
    },
    {
      "cell_type": "code",
      "source": [
        "#Predefined keywords in Python are reserved words that have a specific meaning and function in the language.\n",
        "#They cannot be used as identifiers (like variable names) and are part of Python’s syntax.\n",
        "#These keywords define the structure and control flow of programs."
      ],
      "metadata": {
        "id": "GPlBKi-EttNX"
      },
      "execution_count": 4,
      "outputs": []
    },
    {
      "cell_type": "code",
      "source": [
        "#Examples:\n",
        "print (\"Hello world\") #print is a keyword\n",
        "a=3\n",
        "type(a) #type is keyword and int is also a keyword\n",
        "\n",
        "#other examples are if, else, while, break, continue"
      ],
      "metadata": {
        "colab": {
          "base_uri": "https://localhost:8080/"
        },
        "id": "rGeaWM3itzus",
        "outputId": "d6796062-1849-46ac-aac9-0ba560d2edbc"
      },
      "execution_count": 9,
      "outputs": [
        {
          "output_type": "stream",
          "name": "stdout",
          "text": [
            "Hello world\n"
          ]
        },
        {
          "output_type": "execute_result",
          "data": {
            "text/plain": [
              "int"
            ]
          },
          "metadata": {},
          "execution_count": 9
        }
      ]
    },
    {
      "cell_type": "code",
      "source": [
        "#Compare and contrast mutable and immutable objects in Python with examples"
      ],
      "metadata": {
        "id": "-QKzhf7yuXdT"
      },
      "execution_count": null,
      "outputs": []
    },
    {
      "cell_type": "code",
      "source": [
        "#Mutable objects can be changed or modified after they are created. Immutable objects cannot be changed once they are created.\n",
        "#example of mutable is a list, example of immutable is a string\n",
        "\n",
        "#demonstation of mutable object list:\n",
        "list=[2, 5, \"apple\"]\n",
        "list[2]=\"banana\"\n",
        "print(list)\n",
        "\n",
        "#demonstation of immutable object list:\n",
        "str=\"apple\"\n",
        "#str[0]=\"b\" : This will give an error as a string is immutable.\n"
      ],
      "metadata": {
        "colab": {
          "base_uri": "https://localhost:8080/"
        },
        "id": "Ukv-kBnCuc_t",
        "outputId": "65646355-c555-4f95-ef65-f74aac7352a4"
      },
      "execution_count": 12,
      "outputs": [
        {
          "output_type": "stream",
          "name": "stdout",
          "text": [
            "[2, 5, 'banana']\n"
          ]
        }
      ]
    },
    {
      "cell_type": "code",
      "source": [
        "#Discuss the different types of operators in Python and provide examples of how they are used"
      ],
      "metadata": {
        "id": "U0ZzEJz4I8ZZ"
      },
      "execution_count": null,
      "outputs": []
    },
    {
      "cell_type": "code",
      "source": [
        "#There are arithmetic, comparison, logical, identity, membership, assignment, bitwise operators in python\n",
        "\n",
        "#examples:\n",
        "\n",
        "#arithmetic\n",
        "print(2+3)\n",
        "\n",
        "#comparison:\n",
        "print(3>2)\n",
        "\n",
        "#logical:\n",
        "print(2<3 and 8>0)\n",
        "\n",
        "#identity\n",
        "print(2 is 2)\n",
        "\n",
        "#membership:\n",
        "print(\"a\" in \"apple\")\n",
        "\n",
        "#assignment:\n",
        "z=1\n",
        "z+=1\n",
        "print(z)\n",
        "\n",
        "#bitwise:\n",
        "print(2&3)"
      ],
      "metadata": {
        "colab": {
          "base_uri": "https://localhost:8080/"
        },
        "id": "xI6zivKUJBHB",
        "outputId": "aaee398b-7f83-48c0-cea7-d9c8ca637d1f"
      },
      "execution_count": 21,
      "outputs": [
        {
          "output_type": "stream",
          "name": "stdout",
          "text": [
            "5\n",
            "True\n",
            "True\n",
            "True\n",
            "True\n",
            "2\n",
            "2\n"
          ]
        },
        {
          "output_type": "stream",
          "name": "stderr",
          "text": [
            "<>:15: SyntaxWarning: \"is\" with a literal. Did you mean \"==\"?\n",
            "<>:15: SyntaxWarning: \"is\" with a literal. Did you mean \"==\"?\n",
            "<ipython-input-21-1c7b94cdd558>:15: SyntaxWarning: \"is\" with a literal. Did you mean \"==\"?\n",
            "  print(2 is 2)\n"
          ]
        }
      ]
    },
    {
      "cell_type": "code",
      "source": [
        "#Explain the concept of type casting in Python with examples"
      ],
      "metadata": {
        "id": "PfRsAQ94Ld5g"
      },
      "execution_count": null,
      "outputs": []
    },
    {
      "cell_type": "code",
      "source": [
        "#Type casting refers to the conversion of one data type into another.\n",
        "\n",
        "# Implicit type casting\n",
        "x = 10        # Integer\n",
        "y = 5.5       # Float\n",
        "\n",
        "result = x + y  # Python automatically converts x to float for the addition\n",
        "print(result)   # Output: 15.5\n",
        "print(type(result))  # Output: <class 'float'>\n",
        "\n",
        "\n",
        "#Explicit\n",
        "x = 5.75\n",
        "y = int(x)  # Explicit conversion of float to int\n",
        "print(y)  # Output: 5\n",
        "print(type(y))  # Output: <class 'int'>\n"
      ],
      "metadata": {
        "colab": {
          "base_uri": "https://localhost:8080/"
        },
        "id": "HfFzMRw5LfSS",
        "outputId": "7ace5c11-9164-4665-fc9e-21d9199a2501"
      },
      "execution_count": 22,
      "outputs": [
        {
          "output_type": "stream",
          "name": "stdout",
          "text": [
            "15.5\n",
            "<class 'float'>\n",
            "5\n",
            "<class 'int'>\n"
          ]
        }
      ]
    },
    {
      "cell_type": "code",
      "source": [
        "#How do conditional statements work in Python? Illustrate with examples"
      ],
      "metadata": {
        "id": "1Hi79zIuL22q"
      },
      "execution_count": null,
      "outputs": []
    },
    {
      "cell_type": "code",
      "source": [
        "#Conditional statements in Python allow you to control the flow of the program based on specific conditions.\n",
        "#These statements evaluate expressions and execute different blocks of code depending on whether the condition is True or False.\n",
        "\n",
        "x = 10\n",
        "if x > 5:\n",
        "    print(\"x is greater than 5\")\n",
        "\n",
        "x = 3\n",
        "if x > 5:\n",
        "    print(\"x is greater than 5\")\n",
        "else:\n",
        "    print(\"x is not greater than 5\")"
      ],
      "metadata": {
        "colab": {
          "base_uri": "https://localhost:8080/"
        },
        "id": "oclpS07PL8pT",
        "outputId": "41085fa4-4ec3-4819-a605-6855b313d940"
      },
      "execution_count": 24,
      "outputs": [
        {
          "output_type": "stream",
          "name": "stdout",
          "text": [
            "x is greater than 5\n",
            "x is not greater than 5\n"
          ]
        }
      ]
    },
    {
      "cell_type": "code",
      "source": [
        "#Describe the different types of loops in Python and their use cases with examples."
      ],
      "metadata": {
        "id": "n2AB_wKDMLbI"
      },
      "execution_count": null,
      "outputs": []
    },
    {
      "cell_type": "code",
      "source": [
        "#In Python, loops are used to repeatedly execute a block of code as long as a specified condition is met.\n",
        "#for loop\n",
        "#while loop\n",
        "\n",
        "\n",
        "#The for loop is used to iterate over a sequence (like a list, tuple, dictionary, set, or string).\n",
        "#It's often used when you know the number of iterations in advance or when you want to iterate over elements in a collection.\n",
        "\n",
        "fruits = [\"apple\", \"banana\", \"cherry\"]\n",
        "for i in fruits:\n",
        "    print(i)\n",
        "\n",
        "#The while loop repeats a block of code as long as a specified condition is True.\n",
        "#This loop is used when the number of iterations is not known in advance and depends on the condition being met.\n",
        "\n",
        "print()\n",
        "x = 1\n",
        "while x <= 5:\n",
        "    print(x)\n",
        "    x += 1  # Incrementing x by 1"
      ],
      "metadata": {
        "colab": {
          "base_uri": "https://localhost:8080/"
        },
        "id": "_V4X7cNkMUVx",
        "outputId": "49c661a7-9012-410e-e694-50db1bb8e815"
      },
      "execution_count": 27,
      "outputs": [
        {
          "output_type": "stream",
          "name": "stdout",
          "text": [
            "apple\n",
            "banana\n",
            "cherry\n",
            "\n",
            "1\n",
            "2\n",
            "3\n",
            "4\n",
            "5\n"
          ]
        }
      ]
    }
  ]
}