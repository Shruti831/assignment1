{
  "nbformat": 4,
  "nbformat_minor": 0,
  "metadata": {
    "colab": {
      "provenance": [],
      "authorship_tag": "ABX9TyNyjWSGHKPr4qmZk+0CDIdy",
      "include_colab_link": true
    },
    "kernelspec": {
      "name": "python3",
      "display_name": "Python 3"
    },
    "language_info": {
      "name": "python"
    }
  },
  "cells": [
    {
      "cell_type": "markdown",
      "metadata": {
        "id": "view-in-github",
        "colab_type": "text"
      },
      "source": [
        "<a href=\"https://colab.research.google.com/github/Shruti831/assignment1/blob/main/Python_Assignment_2.ipynb\" target=\"_parent\"><img src=\"https://colab.research.google.com/assets/colab-badge.svg\" alt=\"Open In Colab\"/></a>"
      ]
    },
    {
      "cell_type": "code",
      "execution_count": 1,
      "metadata": {
        "colab": {
          "base_uri": "https://localhost:8080/"
        },
        "id": "rDERfwxLzn0T",
        "outputId": "271bec2a-5b8a-4730-b765-8096e7244e31"
      },
      "outputs": [
        {
          "output_type": "stream",
          "name": "stdout",
          "text": [
            "[2, 3, 4]\n",
            "[2, 4]\n"
          ]
        }
      ],
      "source": [
        "#Discuss string slicing and provide examples\n",
        "\n",
        "#String slicing allows you to extract a portion (substring) of a string.\n",
        "#It is a very useful feature that enables you to select characters from a string by specifying their range using indices.\n",
        "#ex in list\n",
        "\n",
        "list=[1,2,3,4,5]\n",
        "print(list[1:4])\n",
        "print(list[1:4:2])\n"
      ]
    },
    {
      "cell_type": "code",
      "source": [
        "#Explain the key features of lists in Python\n",
        "\n",
        "#Key feature of list:\n",
        "#Ordered: Lists maintain the order of elements as they are added, meaning the order of items is preserved.\n",
        "#Mutable: Lists are mutable, meaning their elements can be changed after creation (add, remove, modify).\n",
        "#Heterogeneous: Lists can contain elements of different data types (integers, strings, etc.).\n",
        "\n",
        "my_list = [1, \"apple\", 3.14, True]\n",
        "print(my_list[1])  # Access \"apple\"\n",
        "my_list.append(7)  # Add 7 to the end\n",
        "print(my_list)"
      ],
      "metadata": {
        "colab": {
          "base_uri": "https://localhost:8080/"
        },
        "id": "rf9NZyg00QmZ",
        "outputId": "6cad8fb9-a65d-415d-8e78-0033c70ed623"
      },
      "execution_count": 4,
      "outputs": [
        {
          "output_type": "stream",
          "name": "stdout",
          "text": [
            "apple\n",
            "[1, 'apple', 3.14, True, 7]\n"
          ]
        }
      ]
    },
    {
      "cell_type": "code",
      "source": [
        "#Describe how to access, modify, and delete elements in a list with examples\n",
        "\n",
        "my_list = [10, 20, 30, 40, 50]\n",
        "# Accessing by positive index\n",
        "print(my_list[0])\n",
        "print(my_list[3])\n",
        "# Accessing by negative index\n",
        "print(my_list[-1])\n",
        "print(my_list[-2])\n",
        "\n",
        "my_list = [10, 20, 30, 40, 50]\n",
        "# Modify the element at index 2\n",
        "my_list[2] = 100\n",
        "print(my_list)\n",
        "\n",
        "my_list = [10, 20, 30, 40, 50]\n",
        "# Delete element at index 1\n",
        "del my_list[1]\n",
        "print(my_list)\n",
        "my_list = [10, 20, 30, 20, 40]\n",
        "# Remove the first occurrence of 20\n",
        "my_list.remove(20)\n",
        "print(my_list)"
      ],
      "metadata": {
        "colab": {
          "base_uri": "https://localhost:8080/"
        },
        "id": "fbvJVpPn03Xf",
        "outputId": "4329d534-3297-4594-af1a-7e03d2e7915a"
      },
      "execution_count": 5,
      "outputs": [
        {
          "output_type": "stream",
          "name": "stdout",
          "text": [
            "10\n",
            "40\n",
            "50\n",
            "40\n",
            "[10, 20, 100, 40, 50]\n",
            "[10, 30, 40, 50]\n",
            "[10, 30, 20, 40]\n"
          ]
        }
      ]
    },
    {
      "cell_type": "code",
      "source": [
        "#Compare and contrast tuples and lists with examples\n",
        "\n",
        "#key diff: tuple is immutable, list is mutablex\n",
        "t = (1, 2, 3)\n",
        "# t[1] = 4  # This will raise a TypeError because tuples are immutable\n",
        "l = [1, 2, 3]\n",
        "l[1] = 4  # This is allowed because lists are mutable\n",
        "print(l)\n",
        "\n",
        "#Tuples are faster than lists in certain operations like iteration and access because they are immutable, which makes them more efficient."
      ],
      "metadata": {
        "colab": {
          "base_uri": "https://localhost:8080/"
        },
        "id": "JjGv3of-1wD5",
        "outputId": "0257445f-bb85-420c-9e0f-fd55674973fd"
      },
      "execution_count": 6,
      "outputs": [
        {
          "output_type": "stream",
          "name": "stdout",
          "text": [
            "[1, 4, 3]\n"
          ]
        }
      ]
    },
    {
      "cell_type": "code",
      "source": [
        "#Describe the key features of sets and provide examples of their use\n",
        "\n",
        "#unordered data structures that holds unique values, values cannot be accesed by indexing.\n",
        "#Sets are mutable, so you can add or remove elements after the set has been created.\n",
        "# A set with integers\n",
        "my_set = {1, 2, 3, 4, 5}\n",
        "\n",
        "# Adding an element\n",
        "my_set.add(6)\n",
        "print(my_set)\n",
        "\n",
        "# Removing an element\n",
        "my_set.remove(4)\n",
        "print(my_set)\n",
        "set1 = {1, 2, 3, 4}\n",
        "set2 = {3, 4, 5, 6}\n",
        "\n",
        "# Union: All elements from both sets\n",
        "union_set = set1 | set2\n",
        "print(union_set)\n",
        "\n",
        "# Intersection: Common elements\n",
        "intersection_set = set1 & set2\n",
        "print(intersection_set)\n",
        "# Difference: Elements in set1 but not in set2\n",
        "difference_set = set1 - set2\n",
        "print(difference_set)\n",
        "\n",
        "# Symmetric Difference: Elements in either set, but not in both\n",
        "symmetric_difference_set = set1 ^ set2\n",
        "print(symmetric_difference_set)\n",
        "\n",
        "# Creating a frozenset\n",
        "frozen_set = frozenset([1, 2, 3, 4])\n",
        "\n",
        "# Frozen sets do not support item assignment or mutation\n",
        "# frozen_set.add(5)  #will give error\n",
        "print(frozen_set)"
      ],
      "metadata": {
        "colab": {
          "base_uri": "https://localhost:8080/"
        },
        "id": "K8zPELXW2SDQ",
        "outputId": "edf48494-9dee-4167-e1c2-dfd0b2f06814"
      },
      "execution_count": 7,
      "outputs": [
        {
          "output_type": "stream",
          "name": "stdout",
          "text": [
            "{1, 2, 3, 4, 5, 6}\n",
            "{1, 2, 3, 5, 6}\n",
            "{1, 2, 3, 4, 5, 6}\n",
            "{3, 4}\n",
            "{1, 2}\n",
            "{1, 2, 5, 6}\n",
            "frozenset({1, 2, 3, 4})\n"
          ]
        }
      ]
    },
    {
      "cell_type": "code",
      "source": [
        "# Discuss the use cases of tuples and sets in Python programming\n",
        "\n",
        "#Tuples are immutable, meaning their elements cannot be modified after creation. This feature is useful in scenarios where data integrity\n",
        "#is important, and you want to ensure that values cannot be accidentally changed.\n",
        "#Example Use Case: Storing fixed configuration settings, coordinates, or constants where accidental modification of values could cause issues.\n",
        "\n",
        "#Tuples are immutable, meaning their elements cannot be modified after creation. This feature is useful in scenarios where data integrity is important,\n",
        "#and you want to ensure that values cannot be accidentally changed.\n",
        "#Example Use Case: Storing fixed configuration settings, coordinates, or constants where accidental modification of values could cause issues."
      ],
      "metadata": {
        "id": "s6m6Q7d64B6u"
      },
      "execution_count": 8,
      "outputs": []
    },
    {
      "cell_type": "code",
      "source": [
        "#Describe how to add, modify, and delete items in a dictionary with examples\n",
        "\n",
        "my_dict = {}\n",
        "# Adding new key-value pairs\n",
        "my_dict[\"name\"] = \"Alice\"\n",
        "my_dict[\"age\"] = 25\n",
        "# Adding more items\n",
        "my_dict[\"city\"] = \"New York\"\n",
        "print(my_dict)\n",
        "\n",
        "my_dict[\"age\"] = 30  # Modifies the value of 'age'\n",
        "# Adding or updating multiple items at once\n",
        "my_dict.update({\"name\": \"Bob\", \"country\": \"USA\"})\n",
        "print(my_dict)\n",
        "\n",
        "# Deleting an item using del\n",
        "del my_dict[\"age\"]\n",
        "print(my_dict)\n",
        "my_dict.pop(\"city\")  # Removes and returns the value associated with the key \"city\"\n",
        "print(my_dict)"
      ],
      "metadata": {
        "colab": {
          "base_uri": "https://localhost:8080/"
        },
        "id": "L-Hz4Sgh5Nsm",
        "outputId": "33722db2-f4b2-4045-d33f-f605964aebe2"
      },
      "execution_count": 9,
      "outputs": [
        {
          "output_type": "stream",
          "name": "stdout",
          "text": [
            "{'name': 'Alice', 'age': 25, 'city': 'New York'}\n",
            "{'name': 'Bob', 'age': 30, 'city': 'New York', 'country': 'USA'}\n",
            "{'name': 'Bob', 'city': 'New York', 'country': 'USA'}\n",
            "{'name': 'Bob', 'country': 'USA'}\n"
          ]
        }
      ]
    },
    {
      "cell_type": "code",
      "source": [
        "# Discuss the importance of dictionary keys being immutable and provide examples\n",
        "#In Python, dictionaries are collections of key-value pairs where each key must be unique.\n",
        "#A fundamental property of dictionary keys is that they must be immutable.\n",
        "#If mutable types like lists or dictionaries were allowed as dictionary keys, a user could change the key after it has been inserted,\n",
        "#potentially causing inconsistencies in how the key is stored and retrieved.\n",
        "\n",
        "# Valid keys\n",
        "my_dict = {\n",
        "    \"name\": \"Alice\",\n",
        "    42: \"A\",\n",
        "    (1, 2, 3): \"Tuple as key\"\n",
        "}\n",
        "\n",
        "print(my_dict[\"name\"])  # Output: Alice\n",
        "print(my_dict[42])      # Output: Answer to everything\n",
        "print(my_dict[(1, 2, 3)])  # Output: Tuple as key"
      ],
      "metadata": {
        "colab": {
          "base_uri": "https://localhost:8080/"
        },
        "id": "9N4RAJ5r64if",
        "outputId": "9bec00e8-2e20-4512-c156-ed463e375af9"
      },
      "execution_count": 11,
      "outputs": [
        {
          "output_type": "stream",
          "name": "stdout",
          "text": [
            "Alice\n",
            "A\n",
            "Tuple as key\n"
          ]
        }
      ]
    },
    {
      "cell_type": "code",
      "source": [],
      "metadata": {
        "id": "ByGjRl2f8Tnc"
      },
      "execution_count": null,
      "outputs": []
    }
  ]
}