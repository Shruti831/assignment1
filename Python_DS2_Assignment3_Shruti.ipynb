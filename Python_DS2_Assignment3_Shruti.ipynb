{
  "nbformat": 4,
  "nbformat_minor": 0,
  "metadata": {
    "colab": {
      "provenance": [],
      "authorship_tag": "ABX9TyMP6pE6l88nt6x4nEpE+FG7",
      "include_colab_link": true
    },
    "kernelspec": {
      "name": "python3",
      "display_name": "Python 3"
    },
    "language_info": {
      "name": "python"
    }
  },
  "cells": [
    {
      "cell_type": "markdown",
      "metadata": {
        "id": "view-in-github",
        "colab_type": "text"
      },
      "source": [
        "<a href=\"https://colab.research.google.com/github/Shruti831/assignment1/blob/main/Python_DS2_Assignment3_Shruti.ipynb\" target=\"_parent\"><img src=\"https://colab.research.google.com/assets/colab-badge.svg\" alt=\"Open In Colab\"/></a>"
      ]
    },
    {
      "cell_type": "code",
      "execution_count": null,
      "metadata": {
        "colab": {
          "base_uri": "https://localhost:8080/"
        },
        "id": "gXBZtpeIDsGo",
        "outputId": "a044d669-d889-4b08-bfdd-316c61466440"
      },
      "outputs": [
        {
          "output_type": "stream",
          "name": "stdout",
          "text": [
            "olleh\n"
          ]
        }
      ],
      "source": [
        "#Write a code to reverse a string\n",
        "\n",
        "def reverse_string(s):\n",
        "    return s[::-1]\n",
        "\n",
        "input_string = \"hello\"\n",
        "print(reverse_string(input_string))"
      ]
    },
    {
      "cell_type": "code",
      "source": [
        "#Write a code to count the number of vowels in a string\n",
        "\n",
        "def count_vowels(s):\n",
        "    vowels = \"aeiouAEIOU\"\n",
        "    count = 0\n",
        "    for char in s:\n",
        "        if char in vowels:\n",
        "            count += 1\n",
        "    return count\n",
        "\n",
        "input_string = \"hello\"\n",
        "print(count_vowels(input_string))"
      ],
      "metadata": {
        "colab": {
          "base_uri": "https://localhost:8080/"
        },
        "id": "_-69UjyvEEZp",
        "outputId": "09e96176-8a6f-4353-83da-7edc89fb0120"
      },
      "execution_count": null,
      "outputs": [
        {
          "output_type": "stream",
          "name": "stdout",
          "text": [
            "2\n"
          ]
        }
      ]
    },
    {
      "cell_type": "code",
      "source": [
        "#Write a code to check if a given string is a palindrome or not\n",
        "\n",
        "def is_palindrome(s):\n",
        "    return s == s[::-1]\n",
        "\n",
        "# Example usage\n",
        "input_string = \"racecar\"\n",
        "print(is_palindrome(input_string))"
      ],
      "metadata": {
        "colab": {
          "base_uri": "https://localhost:8080/"
        },
        "id": "-245S64iEcbm",
        "outputId": "c4fb37f9-e719-4a3b-9404-e53c910cd07a"
      },
      "execution_count": null,
      "outputs": [
        {
          "output_type": "stream",
          "name": "stdout",
          "text": [
            "True\n"
          ]
        }
      ]
    },
    {
      "cell_type": "code",
      "source": [
        "#Write a code to check if two given strings are anagrams of each other\n",
        "\n",
        "string1 = \"listen\"\n",
        "string2 = \"silent\"\n",
        "print(sorted(string1) == sorted(string2))"
      ],
      "metadata": {
        "colab": {
          "base_uri": "https://localhost:8080/"
        },
        "id": "aXiFVHE9Eqdl",
        "outputId": "4da0d0dd-d890-41e6-b9d9-5130bb969c1c"
      },
      "execution_count": null,
      "outputs": [
        {
          "output_type": "stream",
          "name": "stdout",
          "text": [
            "True\n"
          ]
        }
      ]
    },
    {
      "cell_type": "code",
      "source": [
        "#Write a code to find all occurrences of a given substring within another string\n",
        "\n",
        "def find_substring_occurrences(main_str, sub_str):\n",
        "    occurrences = []\n",
        "    start = 0\n",
        "    len2=len(sub_str)\n",
        "    while start<len(main_str):\n",
        "      if main_str[start:start+len2]==sub_str:\n",
        "        occurrences.append(start)\n",
        "      start+=1\n",
        "    return occurrences\n",
        "\n",
        "main_string = \"this is a test string, test the code\"\n",
        "substring = \"test\"\n",
        "print(len(find_substring_occurrences(main_string, substring)))\n"
      ],
      "metadata": {
        "colab": {
          "base_uri": "https://localhost:8080/"
        },
        "id": "d5zLttKtEyaK",
        "outputId": "23030ac8-319c-4c89-b170-a004bb00e746"
      },
      "execution_count": null,
      "outputs": [
        {
          "output_type": "stream",
          "name": "stdout",
          "text": [
            "2\n"
          ]
        }
      ]
    },
    {
      "cell_type": "code",
      "source": [
        "#Write a code to determine if a string has all unique characters\n",
        "\n",
        "input_string = \"abcdef\"\n",
        "print(len(set(input_string)) == len(input_string))\n",
        "\n"
      ],
      "metadata": {
        "colab": {
          "base_uri": "https://localhost:8080/"
        },
        "id": "oLWpeRF-Gu3g",
        "outputId": "e44a6b9c-0f27-4667-ebc8-83d76cb8442a"
      },
      "execution_count": null,
      "outputs": [
        {
          "output_type": "stream",
          "name": "stdout",
          "text": [
            "True\n"
          ]
        }
      ]
    },
    {
      "cell_type": "code",
      "source": [
        "#Write a code to convert a given string to uppercase or lowercase\n",
        "string=\"wdWWn\"\n",
        "print(string.upper())\n",
        "print(string.lower())"
      ],
      "metadata": {
        "colab": {
          "base_uri": "https://localhost:8080/"
        },
        "id": "rbJ5lxn6J5QV",
        "outputId": "4ab8bb34-d57b-4297-b467-892b8074d3de"
      },
      "execution_count": null,
      "outputs": [
        {
          "output_type": "stream",
          "name": "stdout",
          "text": [
            "WDWWN\n",
            "wdwwn\n"
          ]
        }
      ]
    },
    {
      "cell_type": "code",
      "source": [
        "#Write a code to count the number of words in a string\n",
        "\n",
        "input_string = \"this is a test string\"\n",
        "words = input_string.split(\" \")\n",
        "print(words)\n",
        "print(len(words))"
      ],
      "metadata": {
        "colab": {
          "base_uri": "https://localhost:8080/"
        },
        "id": "c9t_rdeMKM1S",
        "outputId": "0ce4583e-a718-4771-f1c3-d803c544e796"
      },
      "execution_count": null,
      "outputs": [
        {
          "output_type": "stream",
          "name": "stdout",
          "text": [
            "['this', 'is', 'a', 'test', 'string']\n",
            "5\n"
          ]
        }
      ]
    },
    {
      "cell_type": "code",
      "source": [
        "#Write a code to concatenate two strings without using the + operator\n",
        "\n",
        "str1 = \"Hello\"\n",
        "str2 = \"World\"\n",
        "result = \" \".join([str1, str2])\n",
        "print(result)"
      ],
      "metadata": {
        "colab": {
          "base_uri": "https://localhost:8080/"
        },
        "id": "tG9s-9PZKgo-",
        "outputId": "7661ac1c-1f44-4721-88a3-6ee9a6d77288"
      },
      "execution_count": null,
      "outputs": [
        {
          "output_type": "stream",
          "name": "stdout",
          "text": [
            "Hello World\n"
          ]
        }
      ]
    },
    {
      "cell_type": "code",
      "source": [
        "#Write a code to remove all occurrences of a specific element from a list\n",
        "element=\"e\"\n",
        "list2=[\"e\",23,43,3,24,\"gvf\",\"e\"]\n",
        "for i in list2:\n",
        "  if i==element:\n",
        "    list2.remove(element)\n",
        "print(list2)"
      ],
      "metadata": {
        "colab": {
          "base_uri": "https://localhost:8080/"
        },
        "id": "3jL5e2rwLHoB",
        "outputId": "4bac7cfa-5d2e-4a7a-dfed-c9cf5b0e47ba"
      },
      "execution_count": null,
      "outputs": [
        {
          "output_type": "stream",
          "name": "stdout",
          "text": [
            "[23, 43, 3, 24, 'gvf']\n"
          ]
        }
      ]
    },
    {
      "cell_type": "code",
      "source": [
        "#Implement a code to find the second largest number in a given list of integers\n",
        "\n",
        "list3=[1,3,3,2,5,6]\n",
        "max=list3[0]\n",
        "second_large=list3[0]\n",
        "\n",
        "for i in list3[1:]:\n",
        "  if (i>max) or (i==max):\n",
        "    second_large=max\n",
        "    max=i\n",
        "\n",
        "  elif (i>second_large) or (i==second_large):\n",
        "    second_large=i\n",
        "\n",
        "\n",
        "print(max)\n",
        "print(second_large)"
      ],
      "metadata": {
        "id": "cDjOWCiHMyvK",
        "colab": {
          "base_uri": "https://localhost:8080/"
        },
        "outputId": "f9182dc5-c3db-4f27-e40e-66aa253b2f14"
      },
      "execution_count": null,
      "outputs": [
        {
          "output_type": "stream",
          "name": "stdout",
          "text": [
            "6\n",
            "5\n"
          ]
        }
      ]
    },
    {
      "cell_type": "code",
      "source": [
        "#Create a code to count the occurrences of each element in a list and return a dictionary with elements as keys and their counts as values\n",
        "str=\" \"\n",
        "dict={}\n",
        "list1=[\"apple\",1,2,11,1,2,2,11,\"apple\"]\n",
        "for ele in list1:\n",
        "  if ele in dict.keys():\n",
        "    dict[ele]=dict[ele]+1\n",
        "  else:\n",
        "    dict[ele]=1\n",
        "\n",
        "print(dict)"
      ],
      "metadata": {
        "colab": {
          "base_uri": "https://localhost:8080/"
        },
        "id": "OZzAtuq5x7-S",
        "outputId": "bc795e6c-dc72-467d-cbce-0453a45afc2e"
      },
      "execution_count": null,
      "outputs": [
        {
          "output_type": "stream",
          "name": "stdout",
          "text": [
            "{'apple': 2, 1: 2, 2: 3, 11: 2}\n"
          ]
        }
      ]
    },
    {
      "cell_type": "code",
      "source": [
        "#Write a code to reverse a list in-place without using any built-in reverse functions\n",
        "\n",
        "list1=[1,2,3,4,56,7,9]\n",
        "\n",
        "if len(list1)/2==0:\n",
        "  mid=len(list1)/2\n",
        "  for i in list1:\n",
        "    temp=i\n",
        "    list1[i]=list1[len(list1)-i-1]\n",
        "    list1[len(list1)-i-1]=temp\n",
        "\n",
        "else:\n",
        "  mid=int(len(list1)/2)\n",
        "  i=0\n",
        "  while i<=mid:\n",
        "    temp=list1[i]\n",
        "    list1[i]=list1[len(list1)-i-1]\n",
        "    list1[len(list1)-i-1]=temp\n",
        "    i+=1\n",
        "\n",
        "print(list)"
      ],
      "metadata": {
        "colab": {
          "base_uri": "https://localhost:8080/"
        },
        "id": "Pf6lGVk252rJ",
        "outputId": "d79c48dc-77cc-4ba1-842c-425d2fc4cd8e"
      },
      "execution_count": null,
      "outputs": [
        {
          "output_type": "stream",
          "name": "stdout",
          "text": [
            "[1, 2, 34, 4, 3]\n"
          ]
        }
      ]
    },
    {
      "cell_type": "code",
      "source": [
        "#Implement a code to find and remove duplicates from a list while preserving the original order of elements\n",
        "\n",
        "list1=[1,1,2,34,4,1,3,34,2]\n",
        "i=0\n",
        "while i < len(list1):\n",
        "  j=i+1\n",
        "  while j<len(list1):\n",
        "    if list1[j]==list1[i]:\n",
        "      del list1[j]\n",
        "    else:\n",
        "      j+=1\n",
        "  i+=1\n",
        "\n",
        "print(list1)"
      ],
      "metadata": {
        "colab": {
          "base_uri": "https://localhost:8080/"
        },
        "id": "vrbsx5ZU7OHh",
        "outputId": "2da2e213-3a57-4de3-c347-a2571948016e"
      },
      "execution_count": null,
      "outputs": [
        {
          "output_type": "stream",
          "name": "stdout",
          "text": [
            "[1, 2, 34, 4, 3]\n"
          ]
        }
      ]
    },
    {
      "cell_type": "code",
      "source": [
        "#Create a code to check if a given list is sorted (either in ascending or descending order) or not\n",
        "\n",
        "my_list = [1, 2, 3, 4, 5]\n",
        "\n",
        "if all(my_list[i] <= my_list[i + 1] for i in range(len(my_list) - 1)):\n",
        "    print(\"The list is sorted in ascending order.\")\n",
        "# Check if the list is sorted in descending order\n",
        "elif all(my_list[i] >= my_list[i + 1] for i in range(len(my_list) - 1)):\n",
        "    print(\"The list is sorted in descending order.\")\n",
        "else:\n",
        "    print(\"The list is not sorted.\")"
      ],
      "metadata": {
        "colab": {
          "base_uri": "https://localhost:8080/"
        },
        "id": "kot87NptAG8Z",
        "outputId": "b4f62212-36b8-4cb9-9e8f-02436e0822be"
      },
      "execution_count": null,
      "outputs": [
        {
          "output_type": "stream",
          "name": "stdout",
          "text": [
            "The list is sorted in ascending order.\n"
          ]
        }
      ]
    },
    {
      "cell_type": "code",
      "source": [
        "#Write a code to merge two sorted lists into a single sorted list\n",
        "\n",
        "list1 = [1, 3, 5, 7]\n",
        "list2 = [2, 4, 6, 8]\n",
        "\n",
        "merged_list = sorted(list1 + list2)\n",
        "\n",
        "print(merged_list)"
      ],
      "metadata": {
        "colab": {
          "base_uri": "https://localhost:8080/"
        },
        "id": "sMDPQAiqASRp",
        "outputId": "6b420e06-bcbf-47ce-a844-08da6ca29fa5"
      },
      "execution_count": null,
      "outputs": [
        {
          "output_type": "stream",
          "name": "stdout",
          "text": [
            "[1, 2, 3, 4, 5, 6, 7, 8]\n"
          ]
        }
      ]
    },
    {
      "cell_type": "code",
      "source": [
        "#Implement a code to find the intersection of two given lists\n",
        "del list\n",
        "list1 = [1, 2, 3, 4, 5]\n",
        "list2 = [4, 5, 6, 7, 8]\n",
        "\n",
        "intersection = list(set(list1) & set(list2))\n",
        "\n",
        "print(intersection)"
      ],
      "metadata": {
        "colab": {
          "base_uri": "https://localhost:8080/"
        },
        "id": "c-FnrR5aTX4Q",
        "outputId": "c4e43199-da47-460f-a78a-e7d242b8fe4b"
      },
      "execution_count": null,
      "outputs": [
        {
          "output_type": "stream",
          "name": "stdout",
          "text": [
            "[4, 5]\n"
          ]
        }
      ]
    },
    {
      "cell_type": "code",
      "source": [
        "#Create a code to find the union of two lists without duplicates\n",
        "\n",
        "list1 = [1, 2, 3, 4, 5]\n",
        "list2 = [4, 5, 6, 7, 8]\n",
        "\n",
        "union = list(set(list1) | set(list2))\n",
        "\n",
        "print(union)"
      ],
      "metadata": {
        "colab": {
          "base_uri": "https://localhost:8080/"
        },
        "id": "ROxCFYfsW1S-",
        "outputId": "f282833e-0ba7-4a64-c08e-e4e8ff698540"
      },
      "execution_count": null,
      "outputs": [
        {
          "output_type": "stream",
          "name": "stdout",
          "text": [
            "[1, 2, 3, 4, 5, 6, 7, 8]\n"
          ]
        }
      ]
    },
    {
      "cell_type": "code",
      "source": [
        "#Write a code to shuffle a given list randomly without using any built-in shuffle functions\n",
        "\n",
        "list2=[2,5,6,1,46,6]\n",
        "\n",
        "frozen_set4=frozenset(list2)\n",
        "\n",
        "print(set(frozen_set4))"
      ],
      "metadata": {
        "colab": {
          "base_uri": "https://localhost:8080/"
        },
        "id": "N8f1SNPZYtQe",
        "outputId": "ae923a91-a35b-44a2-d227-3f3573e46457"
      },
      "execution_count": null,
      "outputs": [
        {
          "output_type": "stream",
          "name": "stdout",
          "text": [
            "{1, 2, 5, 6, 46}\n"
          ]
        }
      ]
    },
    {
      "cell_type": "code",
      "source": [
        "#Write a code that takes two tuples as input and returns a new tuple containing elements that are common to both input tuples\n",
        "\n",
        "tuple1 = (1, 2, 3, 4, 5)\n",
        "tuple2 = (4, 5, 6, 7, 8)\n",
        "\n",
        "common_elements = tuple(set(tuple1) & set(tuple2))\n",
        "\n",
        "print(common_elements)"
      ],
      "metadata": {
        "colab": {
          "base_uri": "https://localhost:8080/"
        },
        "id": "rn0wujmBZWqi",
        "outputId": "7b076249-caee-45ad-a5a7-3f34d7f8d836"
      },
      "execution_count": null,
      "outputs": [
        {
          "output_type": "stream",
          "name": "stdout",
          "text": [
            "(4, 5)\n"
          ]
        }
      ]
    },
    {
      "cell_type": "code",
      "source": [
        "#Write a code to concatenate two tuples. The function should take two tuples as input and return a new tuple containing elements from both input tuples.\n",
        "\n",
        "tuple1 = tuple(input(\"tuple1\"))\n",
        "tuple2 = tuple(input(\"tuple2\"))\n",
        "concat=(tuple1+tuple2)\n",
        "list_concat=list(concat)\n",
        "i=0\n",
        "while i < len(list_concat):\n",
        "  if list_concat[i]==\",\":\n",
        "    list_concat.remove(\",\")\n",
        "  i+=1\n",
        "\n",
        "print(tuple(list_concat))"
      ],
      "metadata": {
        "colab": {
          "base_uri": "https://localhost:8080/"
        },
        "id": "DUeMfmQqZwFf",
        "outputId": "4793e8d3-a3d8-4038-d5db-cf15fc0664b3"
      },
      "execution_count": null,
      "outputs": [
        {
          "output_type": "stream",
          "name": "stdout",
          "text": [
            "tuple15,5\n",
            "tuple28,3\n",
            "('5', '5', '8', '3')\n"
          ]
        }
      ]
    },
    {
      "cell_type": "code",
      "source": [
        "#Create a code that prompts the user to enter two sets of integers separated by commas. Then, print the intersection of these two sets\n",
        "\n",
        "set1_input = input(\"Enter the first set of integers separated by commas: \")\n",
        "set2_input = input(\"Enter the second set of integers separated by commas: \")\n",
        "print(type(set1_input))\n",
        "set1 = set(int(x) for x in set1_input.split(','))\n",
        "set2 = set(int(x) for x in set2_input.split(','))\n",
        "\n",
        "intersection = set1 & set2\n",
        "\n",
        "print(\"The intersection of the two sets is:\", intersection)"
      ],
      "metadata": {
        "colab": {
          "base_uri": "https://localhost:8080/"
        },
        "id": "CAY6LmM-anum",
        "outputId": "a3665a4e-815a-4a4d-f54f-5f06d219ee31"
      },
      "execution_count": null,
      "outputs": [
        {
          "output_type": "stream",
          "name": "stdout",
          "text": [
            "Enter the first set of integers separated by commas: 2,5\n",
            "Enter the second set of integers separated by commas: 3,5\n",
            "<class 'str'>\n",
            "The intersection of the two sets is: {5}\n"
          ]
        }
      ]
    },
    {
      "cell_type": "code",
      "source": [
        "#Develop a code that prompts the user to input two sets of strings. Then, print the elements that are present in the first set but not in the second set\n",
        "\n",
        "set1_input = input(\"Enter the first set of strings separated by commas: \")\n",
        "set2_input = input(\"Enter the second set of strings separated by commas: \")\n",
        "\n",
        "set1 = set(set1_input.split(','))\n",
        "set2 = set(set2_input.split(','))\n",
        "\n",
        "difference = set1 - set2\n",
        "\n",
        "print(\"The elements present in the first set but not in the second set are:\", difference)"
      ],
      "metadata": {
        "colab": {
          "base_uri": "https://localhost:8080/"
        },
        "id": "6xBQItbscFzD",
        "outputId": "c18b5241-e161-4507-f8dd-51212867554a"
      },
      "execution_count": null,
      "outputs": [
        {
          "output_type": "stream",
          "name": "stdout",
          "text": [
            "Enter the first set of strings separated by commas: shruti,gupta\n",
            "Enter the second set of strings separated by commas: gupta,patil\n",
            "The elements present in the first set but not in the second set are: {'shruti'}\n"
          ]
        }
      ]
    },
    {
      "cell_type": "code",
      "source": [
        "#Create a code that takes a tuple and two integers as input. The function should return a new tuple\n",
        "#containing elements from the original tuple within the specified range of indices&\n",
        "\n",
        "original_tuple = eval(input(\"Enter tuple\"))\n",
        "start_index = int(input(\"INteger1:\"))\n",
        "end_index = int(input(\"INteger2:\"))\n",
        "print(original_tuple)\n",
        "print(original_tuple[start_index:end_index])\n",
        "\n",
        "\n"
      ],
      "metadata": {
        "id": "HQ2T_UiPfxTQ",
        "colab": {
          "base_uri": "https://localhost:8080/"
        },
        "outputId": "be80d095-8662-45c5-ebba-21fa035c4060"
      },
      "execution_count": 8,
      "outputs": [
        {
          "output_type": "stream",
          "name": "stdout",
          "text": [
            "Enter tuple2,3,4,5,2,2\n",
            "INteger1:2\n",
            "INteger2:4\n",
            "(2, 3, 4, 5, 2, 2)\n",
            "(4, 5)\n"
          ]
        }
      ]
    },
    {
      "cell_type": "code",
      "source": [
        "#Write a code that prompts the user to input two sets of characters. Then, print the union of these two sets\n",
        "\n",
        "set1 = set(input(\"Enter first set of characters: \"))\n",
        "set2 = set(input(\"Enter second set of characters: \"))\n",
        "\n",
        "union_set = set1 | set2\n",
        "\n",
        "print(\"Union of the two sets:\", union_set)"
      ],
      "metadata": {
        "colab": {
          "base_uri": "https://localhost:8080/"
        },
        "id": "c0OWvO0OgTAv",
        "outputId": "e034b097-469f-4fd5-de2e-51b9df3f1baa"
      },
      "execution_count": 12,
      "outputs": [
        {
          "output_type": "stream",
          "name": "stdout",
          "text": [
            "Enter first set of characters: ygguhjj\n",
            "Enter second set of characters: yvbgh\n",
            "Union of the two sets: {'h', 'u', 'y', 'b', 'v', 'j', 'g'}\n"
          ]
        }
      ]
    },
    {
      "cell_type": "code",
      "source": [
        "#Develop a code that takes a tuple of integers as input. The function should return the maximum and\n",
        "#minimum values from the tuple using tuple unpacking\n",
        "\n",
        "input_tuple = tuple(input(\"Enter a tuple of integers separated by spaces: \").split())\n",
        "\n",
        "input_tuple = tuple(int(x) for x in input_tuple)\n",
        "\n",
        "max_value, min_value = max(input_tuple), min(input_tuple)\n",
        "\n",
        "# Output the maximum and minimum values\n",
        "print(f\"Maximum value: {max_value}\")\n",
        "print(f\"Minimum value: {min_value}\")"
      ],
      "metadata": {
        "colab": {
          "base_uri": "https://localhost:8080/"
        },
        "id": "6L4oYsFuiiUu",
        "outputId": "ce29f5a2-9298-4531-c99a-6282d4e3a3ab"
      },
      "execution_count": 13,
      "outputs": [
        {
          "output_type": "stream",
          "name": "stdout",
          "text": [
            "Enter a tuple of integers separated by spaces: 8 8 8 5 52 25 \n",
            "Maximum value: 52\n",
            "Minimum value: 5\n"
          ]
        }
      ]
    },
    {
      "cell_type": "code",
      "source": [
        "#Create a code that defines two sets of integers. Then, print the union, intersection, and difference of these two sets\n",
        "\n",
        "set1 = {1, 2, 3, 4, 5}\n",
        "set2 = {4, 5, 6, 7, 8}\n",
        "\n",
        "union_set = set1 | set2\n",
        "\n",
        "intersection_set = set1 & set2\n",
        "\n",
        "difference_set1 = set1 - set2\n",
        "\n",
        "difference_set2 = set2 - set1\n",
        "\n",
        "print(\"Union of the two sets:\", union_set)\n",
        "print(\"Intersection of the two sets:\", intersection_set)\n",
        "print(\"Difference (set1 - set2):\", difference_set1)\n",
        "print(\"Difference (set2 - set1):\", difference_set2)\n"
      ],
      "metadata": {
        "colab": {
          "base_uri": "https://localhost:8080/"
        },
        "id": "WAkGx8LswzP2",
        "outputId": "e8a90198-f973-4b09-9be8-8197317c7d13"
      },
      "execution_count": 14,
      "outputs": [
        {
          "output_type": "stream",
          "name": "stdout",
          "text": [
            "Union of the two sets: {1, 2, 3, 4, 5, 6, 7, 8}\n",
            "Intersection of the two sets: {4, 5}\n",
            "Difference (set1 - set2): {1, 2, 3}\n",
            "Difference (set2 - set1): {8, 6, 7}\n"
          ]
        }
      ]
    },
    {
      "cell_type": "code",
      "source": [
        "#Write a code that takes a tuple and an element as input. The function should return the count of occurrences of the given element in the tuple\n",
        "\n",
        "input_tuple = tuple(input(\"Enter a tuple of elements (comma separated): \").split(','))\n",
        "element = input(\"Enter the element to count occurrences of: \")\n",
        "\n",
        "count = input_tuple.count(element)\n",
        "\n",
        "print(f\"The element '{element}' appears {count} times in the tuple.\")\n"
      ],
      "metadata": {
        "colab": {
          "base_uri": "https://localhost:8080/"
        },
        "id": "iuxskxZyxJ9d",
        "outputId": "9605ad3b-124e-4cf4-80a0-93ac652f103a"
      },
      "execution_count": 15,
      "outputs": [
        {
          "output_type": "stream",
          "name": "stdout",
          "text": [
            "Enter a tuple of elements (comma separated): 5,8,5,8\n",
            "Enter the element to count occurrences of: 5\n",
            "The element '5' appears 2 times in the tuple.\n"
          ]
        }
      ]
    },
    {
      "cell_type": "code",
      "source": [
        "#Develop a code that prompts the user to input two sets of strings. Then, print the symmetric difference of these two sets\n",
        "\n",
        "set1_input = input(\"Enter the first set of strings (comma separated): \")\n",
        "set2_input = input(\"Enter the second set of strings (comma separated): \")\n",
        "\n",
        "set1 = set(set1_input.split(','))\n",
        "set2 = set(set2_input.split(','))\n",
        "\n",
        "symmetric_difference = set1 ^ set2\n",
        "\n",
        "print(\"Symmetric difference of the two sets:\", symmetric_difference)\n"
      ],
      "metadata": {
        "colab": {
          "base_uri": "https://localhost:8080/"
        },
        "id": "_99_gjKG1FVD",
        "outputId": "5f04e930-3933-449e-8708-8ea72a338c28"
      },
      "execution_count": 17,
      "outputs": [
        {
          "output_type": "stream",
          "name": "stdout",
          "text": [
            "Enter the first set of strings (comma separated): 3,4,3,4,4,3,3,4,5\n",
            "Enter the second set of strings (comma separated): 3,4,3,4,3,3,4\n",
            "Symmetric difference of the two sets: {'5'}\n"
          ]
        }
      ]
    },
    {
      "cell_type": "code",
      "source": [
        "#Write a code that takes a list of words as input and returns a dictionary where the keys are unique words\n",
        "#and the values are the frequencies of those words in the input list\n",
        "\n",
        "input_string = input(\"Enter a list of words (comma separated): \")\n",
        "\n",
        "words_list = input_string.split(',')\n",
        "\n",
        "word_count = {}\n",
        "\n",
        "for word in words_list:\n",
        "    word = word.strip()\n",
        "    if word in word_count:\n",
        "        word_count[word] += 1\n",
        "    else:\n",
        "        word_count[word] = 1\n",
        "\n",
        "print(\"Word frequencies:\", word_count)\n"
      ],
      "metadata": {
        "colab": {
          "base_uri": "https://localhost:8080/"
        },
        "id": "q8tQrZiO2KO9",
        "outputId": "c83c9f53-575a-4a74-9cd9-4da446855475"
      },
      "execution_count": 18,
      "outputs": [
        {
          "output_type": "stream",
          "name": "stdout",
          "text": [
            "Enter a list of words (comma separated): shruti,gupta,shruti,shruti,gupa,shruti\n",
            "Word frequencies: {'shruti': 4, 'gupta': 1, 'gupa': 1}\n"
          ]
        }
      ]
    },
    {
      "cell_type": "code",
      "source": [
        "\n"
      ],
      "metadata": {
        "id": "F0_TYVON3kuJ"
      },
      "execution_count": null,
      "outputs": []
    }
  ]
}