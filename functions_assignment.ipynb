{
  "nbformat": 4,
  "nbformat_minor": 0,
  "metadata": {
    "colab": {
      "provenance": [],
      "authorship_tag": "ABX9TyMSbEg55TRYGxIKvU+Doy3S",
      "include_colab_link": true
    },
    "kernelspec": {
      "name": "python3",
      "display_name": "Python 3"
    },
    "language_info": {
      "name": "python"
    }
  },
  "cells": [
    {
      "cell_type": "markdown",
      "metadata": {
        "id": "view-in-github",
        "colab_type": "text"
      },
      "source": [
        "<a href=\"https://colab.research.google.com/github/Shruti831/assignment1/blob/main/functions_assignment.ipynb\" target=\"_parent\"><img src=\"https://colab.research.google.com/assets/colab-badge.svg\" alt=\"Open In Colab\"/></a>"
      ]
    },
    {
      "cell_type": "code",
      "execution_count": null,
      "metadata": {
        "colab": {
          "base_uri": "https://localhost:8080/"
        },
        "id": "6S267Q_ubM5D",
        "outputId": "63bee80e-2337-4ae4-9f50-501aaf495a94"
      },
      "outputs": [
        {
          "output_type": "stream",
          "name": "stdout",
          "text": [
            "8\n",
            "8\n"
          ]
        }
      ],
      "source": [
        "#Q1What is the difference between a function and a method in Python?\n",
        "\n",
        "#Function: A function is a block of code that is designed to perform a specific task and is defined using the def keyword.\n",
        "#It can be called independently, and it doesn’t need to be bound to an object.\n",
        "\n",
        "#Method: A method is essentially a function that is bound to an object.\n",
        "#It is defined within a class and can access and modify the object's state (its attributes).\n",
        "#Methods are always called on instances (or sometimes on the class itself) and they always take the instance (or class)\n",
        "#as their first argument, which is usually named self (for instance methods) or cls (for class methods).\n",
        "\n",
        "# A simple function that adds two numbers\n",
        "def add_numbers(a, b):\n",
        "    return a + b\n",
        "\n",
        "# Call the function\n",
        "result = add_numbers(3, 5)\n",
        "print(result)  # Output: 8\n",
        "\n",
        "\n",
        "class Calculator:\n",
        "    def __init__(self):\n",
        "        self.result = 0\n",
        "\n",
        "    def add(self, a, b):\n",
        "        self.result = a + b\n",
        "        return self.result\n",
        "\n",
        "# Create an instance of the Calculator class\n",
        "calc = Calculator()\n",
        "\n",
        "# Call the method on the instance\n",
        "result = calc.add(3, 5)\n",
        "print(result)  # Output: 8"
      ]
    },
    {
      "cell_type": "code",
      "source": [
        "# Q2Explain the concept of function arguments and parameters in Python.\n",
        "\n",
        "#In Python, function arguments and parameters refer to the values that a function uses to perform its task.\n",
        "#These terms are related but have distinct meanings:\n",
        "\n",
        "#1. Parameters:Parameters are the variables listed in the function definition. They act as placeholders for th\n",
        "# values that will be passed to the function when it is called. We define them when we define a function.\n",
        "\n",
        "#2. Arguments:\n",
        "#Arguments are the actual values or expressions you we to the function when we call it. The arguments\n",
        "#correspond to the parameters defined in the function.\n",
        "def greet(name, age):  # 'name' and 'age' are parameters\n",
        "    print(f\"Hello, {name}! You are {age} years old.\")\n",
        "\n",
        "greet(\"Alice\", 30)  # \"Alice\" and 30 are arguments"
      ],
      "metadata": {
        "colab": {
          "base_uri": "https://localhost:8080/"
        },
        "id": "jzYttRijbd0Y",
        "outputId": "6dc5ced2-6c82-4c81-f7c5-d820b028eb62"
      },
      "execution_count": null,
      "outputs": [
        {
          "output_type": "stream",
          "name": "stdout",
          "text": [
            "Hello, Alice! You are 30 years old.\n"
          ]
        }
      ]
    },
    {
      "cell_type": "code",
      "source": [
        "#Q3What are the different ways to define and call a function in Python?\n",
        "#\n",
        "#Basic Function Definition: def function_name():\n",
        "#Function with Parameters: def function_name(param1, param2):\n",
        "#Default Parameters: def function_name(param1, param2=\"default\"):\n",
        "#Keyword Arguments: function_name(param1=value1, param2=value2)\n",
        "#Variable-Length Positional Arguments (*args): def function_name(*args):\n",
        "#Lambda Functions: lambda x: expression\n",
        "#Nested Functions: Functions defined inside other functions.\n",
        "#Recursive Functions: Functions that call themselves.\n",
        "\n",
        "\n",
        "#1 example\n",
        "def greet(name):\n",
        "    print(f\"Hello, {name}!\")\n",
        "\n",
        "greet(\"Alice\")  # Calling the function with an argumentx\n",
        "\n",
        "#Function with Parameters\n",
        "def add(a, b):\n",
        "    return a + b\n",
        "\n",
        "result = add(3, 5)  # Calling the function with arguments 3 and 5\n",
        "print(result)  # Output: 8\n",
        "\n",
        "#Default Parameters\n",
        "def greet(name, greeting=\"Hello\"):\n",
        "    print(f\"{greeting}, {name}!\")\n",
        "\n",
        "greet(\"Alice\")  # Uses the default greeting \"Hello\"\n",
        "greet(\"Bob\", \"Hi\")  # Uses the custom greeting \"Hi\""
      ],
      "metadata": {
        "colab": {
          "base_uri": "https://localhost:8080/"
        },
        "id": "1QGPqHVmcaXW",
        "outputId": "1555a77c-48aa-4e63-b842-715c152b1157"
      },
      "execution_count": null,
      "outputs": [
        {
          "output_type": "stream",
          "name": "stdout",
          "text": [
            "Hello, Alice!\n",
            "8\n",
            "Hello, Alice!\n",
            "Hi, Bob!\n"
          ]
        }
      ]
    },
    {
      "cell_type": "code",
      "source": [
        "#Q4What is the purpose of the `return` statement in a Python function?\n",
        "\n",
        "#The return statement in Python is used to exit a function and optionally return a value to the caller. It serves two main purposes:\n",
        "#Exiting the function: The return statement terminates the execution of a function and\n",
        "#immediately transfers control back to the point where the function was called.\n",
        "\n",
        "#Returning a value: If a function needs to produce a result, the return statement sends that result back\n",
        "#to the caller. If no value is specified after return, the function returns None by default.\n",
        "\n",
        "def add(a, b):\n",
        "    return a + b  # Returns the sum of a and b\n",
        "\n",
        "result = add(3, 5)\n",
        "print(result)\n"
      ],
      "metadata": {
        "colab": {
          "base_uri": "https://localhost:8080/"
        },
        "id": "g1uX2Jitd8-5",
        "outputId": "12ae00e3-f0cb-46b4-d785-71cb9459e004"
      },
      "execution_count": null,
      "outputs": [
        {
          "output_type": "stream",
          "name": "stdout",
          "text": [
            "8\n"
          ]
        }
      ]
    },
    {
      "cell_type": "code",
      "source": [
        "#Q5What are iterators in Python and how do they differ from iterables?\n",
        "\n",
        "#terable:\n",
        "#An iterable is any object that can return an iterator (using iter()) and can be looped over, such as lists, tuples, strings, etc.\n",
        "#Example: my_list = [1, 2, 3] is iterable.\n",
        "\n",
        "#Iterator:\n",
        "#An iterator is an object that performs the actual iteration, keeping track of the current position, and yields items one at a time using next().\n",
        "#Example: my_iterator = iter(my_list) creates an iterator from the list."
      ],
      "metadata": {
        "id": "oHLy4Proej-9"
      },
      "execution_count": null,
      "outputs": []
    },
    {
      "cell_type": "code",
      "source": [
        "#Q6 Explain the concept of generators in Python and how they are defined.\n",
        "\n",
        "#A generator is a special type of iterator in Python that allows you to create an iterator using a function. Instead of\n",
        "#using return to send values, generators use the yield keyword. When a generator function is called, it returns a generator object, which\n",
        "#can be iterated over one value at a time, and it generates values, saving memory.\n",
        "\n",
        "def count_up_to(n):\n",
        "    count = 1\n",
        "    while count <= n:\n",
        "        yield count  # Yield each number and pause execution\n",
        "        count += 1\n",
        "\n",
        "# Creating a generator object\n",
        "counter = count_up_to(5)\n",
        "\n",
        "print(next(counter))\n",
        "print(next(counter))\n",
        "print(next(counter))\n",
        "print(next(counter))\n",
        "print(next(counter))"
      ],
      "metadata": {
        "colab": {
          "base_uri": "https://localhost:8080/"
        },
        "id": "3y19Us4YfFx9",
        "outputId": "376cebae-89d0-46b6-c924-77a921253bdb"
      },
      "execution_count": null,
      "outputs": [
        {
          "output_type": "stream",
          "name": "stdout",
          "text": [
            "1\n",
            "2\n",
            "3\n",
            "4\n",
            "5\n"
          ]
        }
      ]
    },
    {
      "cell_type": "code",
      "source": [
        "#Q7What are the advantages of using generators over regular functions?\n",
        "\n",
        "#Memory Efficiency: Generators produce values one at a time and do not store the entire sequence in memory,\n",
        "#making them ideal for working with large datasets or infinite sequences.\n",
        "\n",
        "# Using a regular function (creates a large list in memory)\n",
        "def large_range():\n",
        "    return list(range(1, 1000001))\n",
        "\n",
        "# Using a generator (generates values one by one)\n",
        "def large_range_gen():\n",
        "    for i in range(1, 1000001):\n",
        "        yield i\n"
      ],
      "metadata": {
        "id": "-Gkr1gGhfcWF"
      },
      "execution_count": null,
      "outputs": []
    },
    {
      "cell_type": "code",
      "source": [
        "#Q8What is a lambda function in Python and when is it typically used?\n",
        "\n",
        "#A lambda function is a small anonymous function defined using the lambda keyword. Unlike regular functions defined with def, a\n",
        "#lambda function can have any number of arguments but can only contain a single expression. The result of the expression is implicitly returned.\n",
        "\n",
        "add = lambda x, y: x + y\n",
        "print(add(3, 5))  # Output: 8"
      ],
      "metadata": {
        "colab": {
          "base_uri": "https://localhost:8080/"
        },
        "id": "k-EAATPpgZe-",
        "outputId": "3f30671b-a12d-4ebc-e165-bf3f4bdf5f9d"
      },
      "execution_count": null,
      "outputs": [
        {
          "output_type": "stream",
          "name": "stdout",
          "text": [
            "8\n"
          ]
        }
      ]
    },
    {
      "cell_type": "code",
      "source": [
        "#Q9Explain the purpose and usage of the `map()` function in Python.\n",
        "\n",
        "#The map() function in Python is used to apply a given function to all items in an iterable (such as a list, tuple, etc.) and return\n",
        "#a new map object (which is an iterator) with the results. It's a convenient way to process and transform the elements of an iterable\n",
        "#without the need for explicit loops.\n",
        "\n",
        "numbers = [1, 2, 3, 4, 5]\n",
        "\n",
        "squared_numbers = map(lambda x: x ** 2, numbers)\n",
        "print(type(squared_numbers))\n",
        "print(list(squared_numbers))  # Output: [1, 4, 9, 16, 25]\n"
      ],
      "metadata": {
        "colab": {
          "base_uri": "https://localhost:8080/"
        },
        "id": "mtE4mJT4gpzO",
        "outputId": "eae3eafc-1cba-4807-e183-7c9baa387a8c"
      },
      "execution_count": null,
      "outputs": [
        {
          "output_type": "stream",
          "name": "stdout",
          "text": [
            "<class 'map'>\n",
            "[1, 4, 9, 16, 25]\n"
          ]
        }
      ]
    },
    {
      "cell_type": "code",
      "source": [
        "#Q10What is the difference between `map()`, `reduce()`, and `filter()` functions in Python?\n",
        "\n",
        "#The filter() function filters out elements from an iterable based on a condition defined by a function.\n",
        "#It only keeps the elements that evaluate to True in the given function.\n",
        "\n",
        "#The reduce() function reduces a list (or iterable) to a single value by applying a function that takes two arguments cumulatively.\n",
        "\n",
        "#The map() function in Python is used to apply a given function to all items in an iterable (such as a list, tuple, etc.)\n",
        "squared = map(lambda x: x ** 2, numbers)\n",
        "print(list(squared))  # Output: [1, 4, 9, 16, 25]\n",
        "\n",
        "evens = filter(lambda x: x % 2 == 0, numbers)\n",
        "print(list(evens))  # Output: [2, 4]\n",
        "\n",
        "from functools import reduce\n",
        "sum_of_numbers = reduce(lambda x, y: x + y, numbers)\n",
        "print(sum_of_numbers)  # Output: 15"
      ],
      "metadata": {
        "colab": {
          "base_uri": "https://localhost:8080/"
        },
        "id": "u96tX2NQp4yx",
        "outputId": "a3883555-448a-4672-cf2b-a221c76f273c"
      },
      "execution_count": null,
      "outputs": [
        {
          "output_type": "stream",
          "name": "stdout",
          "text": [
            "[1, 4, 9, 16, 25]\n",
            "[2, 4]\n",
            "15\n"
          ]
        }
      ]
    },
    {
      "cell_type": "code",
      "source": [
        "#Q11Using pen & Paper write the internal mechanism for sum operation using  reduce function on this given list:[47,11,42,13];\n",
        "\n",
        "#first it will sum 47 and 11(47+11=58), then 58+42=100, then 100+13=113\n",
        "#program:\n",
        "list1=[47,11,42,13]\n",
        "sum7=reduce(lambda x,y:x+y, list1)\n",
        "print(sum7)"
      ],
      "metadata": {
        "colab": {
          "base_uri": "https://localhost:8080/"
        },
        "id": "wHLGh25GqXrM",
        "outputId": "8aaf604c-42e6-4909-91a7-7125a60a7d77"
      },
      "execution_count": null,
      "outputs": [
        {
          "output_type": "stream",
          "name": "stdout",
          "text": [
            "113\n"
          ]
        }
      ]
    },
    {
      "cell_type": "code",
      "source": [
        "print(sum)  # Should print: <built-in function sum>\n",
        "print(int)   # Should print: <class 'int'>"
      ],
      "metadata": {
        "colab": {
          "base_uri": "https://localhost:8080/"
        },
        "id": "mo9pOHM-uuUP",
        "outputId": "4a62ecaf-496a-4f3e-e70f-0e93140956d2"
      },
      "execution_count": 1,
      "outputs": [
        {
          "output_type": "stream",
          "name": "stdout",
          "text": [
            "<built-in function sum>\n",
            "<class 'int'>\n"
          ]
        }
      ]
    },
    {
      "cell_type": "code",
      "source": [
        "#practical questions:\n",
        "#Q1\n",
        "#Write a Python function that takes a list of numbers as input and returns the sum of all even numbers in the list.\n",
        "\n",
        "def sum_of_evens(numbers):\n",
        "    return sum(filter(lambda x: x % 2 == 0, numbers))\n",
        "\n",
        "user_input = input(\"Enter a list of numbers (comma-separated): \").split(\",\")\n",
        "\n",
        "numbers = list(map(int, user_input))\n",
        "\n",
        "even_sum = sum_of_evens(numbers)\n",
        "\n",
        "print(f\"The sum of all even numbers is: {even_sum}\")"
      ],
      "metadata": {
        "colab": {
          "base_uri": "https://localhost:8080/"
        },
        "id": "FZXzt442q5x_",
        "outputId": "66276c06-679b-4a03-d40b-13384cbaa80a"
      },
      "execution_count": 2,
      "outputs": [
        {
          "output_type": "stream",
          "name": "stdout",
          "text": [
            "Enter a list of numbers (comma-separated): 4,4,5,5,5,5\n",
            "The sum of all even numbers is: 8\n"
          ]
        }
      ]
    },
    {
      "cell_type": "code",
      "source": [
        "#Create a Python function that accepts a string and returns the reverse of that string.\n",
        "\n",
        "def reverse_string(s):\n",
        "    return s[::-1]\n",
        "\n",
        "input_string = input(\"Enter a string: \")\n",
        "reversed_string = reverse_string(input_string)\n",
        "print(f\"The reversed string is: {reversed_string}\")\n"
      ],
      "metadata": {
        "id": "ax5nqK25saXd",
        "colab": {
          "base_uri": "https://localhost:8080/"
        },
        "outputId": "1a7cfa4c-4232-4bf1-b0a2-d5ab68641c69"
      },
      "execution_count": 3,
      "outputs": [
        {
          "output_type": "stream",
          "name": "stdout",
          "text": [
            "Enter a string: shruti gupta\n",
            "The reversed string is: atpug iturhs\n"
          ]
        }
      ]
    },
    {
      "cell_type": "code",
      "source": [
        "# Implement a Python function that takes a list of integers and returns a new list containing the squares of each number.\n",
        "\n",
        "def square_numbers(numbers):\n",
        "    return [x ** 2 for x in numbers]\n",
        "\n",
        "user_input = input(\"Enter a list of numbers (comma-separated): \")\n",
        "\n",
        "numbers = list(map(int, user_input.split(',')))\n",
        "\n",
        "squared_list = square_numbers(numbers)\n",
        "\n",
        "print(f\"The squared numbers are: {squared_list}\")\n",
        "\n"
      ],
      "metadata": {
        "colab": {
          "base_uri": "https://localhost:8080/"
        },
        "id": "JYGfbp08yO5T",
        "outputId": "ce76167a-0d30-4f60-86ff-9ca47de42a28"
      },
      "execution_count": 4,
      "outputs": [
        {
          "output_type": "stream",
          "name": "stdout",
          "text": [
            "Enter a list of numbers (comma-separated): 1,3,4,2\n",
            "The squared numbers are: [1, 9, 16, 4]\n"
          ]
        }
      ]
    },
    {
      "cell_type": "code",
      "source": [
        "#Write a Python function that checks if a given number is prime or not from 1 to 200\n",
        "\n",
        "import math\n",
        "\n",
        "def is_prime(n):\n",
        "    if n <= 1:\n",
        "        return False\n",
        "    for i in range(2, int(math.sqrt(n)) + 1):\n",
        "        if n % i == 0:\n",
        "            return False\n",
        "    return True\n",
        "\n",
        "for num in range(1, 201):\n",
        "    if is_prime(num):\n",
        "        print(f\"{num} is prime\")\n"
      ],
      "metadata": {
        "colab": {
          "base_uri": "https://localhost:8080/"
        },
        "id": "4lbQuB_R34Rs",
        "outputId": "60550742-e709-4fc2-a486-cbd8cbc35228"
      },
      "execution_count": 5,
      "outputs": [
        {
          "output_type": "stream",
          "name": "stdout",
          "text": [
            "2 is prime\n",
            "3 is prime\n",
            "5 is prime\n",
            "7 is prime\n",
            "11 is prime\n",
            "13 is prime\n",
            "17 is prime\n",
            "19 is prime\n",
            "23 is prime\n",
            "29 is prime\n",
            "31 is prime\n",
            "37 is prime\n",
            "41 is prime\n",
            "43 is prime\n",
            "47 is prime\n",
            "53 is prime\n",
            "59 is prime\n",
            "61 is prime\n",
            "67 is prime\n",
            "71 is prime\n",
            "73 is prime\n",
            "79 is prime\n",
            "83 is prime\n",
            "89 is prime\n",
            "97 is prime\n",
            "101 is prime\n",
            "103 is prime\n",
            "107 is prime\n",
            "109 is prime\n",
            "113 is prime\n",
            "127 is prime\n",
            "131 is prime\n",
            "137 is prime\n",
            "139 is prime\n",
            "149 is prime\n",
            "151 is prime\n",
            "157 is prime\n",
            "163 is prime\n",
            "167 is prime\n",
            "173 is prime\n",
            "179 is prime\n",
            "181 is prime\n",
            "191 is prime\n",
            "193 is prime\n",
            "197 is prime\n",
            "199 is prime\n"
          ]
        }
      ]
    },
    {
      "cell_type": "code",
      "source": [
        "#Write a generator function in Python that yields the powers of 2 up to a given exponent\n",
        "\n",
        "def powers_of_two(exponent):\n",
        "    for i in range(exponent + 1):\n",
        "        yield 2 ** i\n",
        "\n",
        "# Example Usage\n",
        "exponent = int(input(\"Enter the exponent for powers of 2: \"))\n",
        "for power in powers_of_two(exponent):\n",
        "    print(power)"
      ],
      "metadata": {
        "colab": {
          "base_uri": "https://localhost:8080/"
        },
        "id": "4uG3f1DF4Il8",
        "outputId": "d19503e9-483b-4d20-c532-ad6896fda039"
      },
      "execution_count": 6,
      "outputs": [
        {
          "output_type": "stream",
          "name": "stdout",
          "text": [
            "Enter the exponent for powers of 2: 7\n",
            "1\n",
            "2\n",
            "4\n",
            "8\n",
            "16\n",
            "32\n",
            "64\n",
            "128\n"
          ]
        }
      ]
    },
    {
      "cell_type": "code",
      "source": [
        "#Write a Python program that uses `map()` to convert a list of temperatures from Celsius to Fahrenheit\n",
        "\n",
        "def celsius_to_fahrenheit(celsius):\n",
        "    return (celsius * 9/5) + 32\n",
        "\n",
        "celsius_temperatures = [0, 20, 25, 30, 35, 40]\n",
        "\n",
        "fahrenheit_temperatures = list(map(celsius_to_fahrenheit, celsius_temperatures))\n",
        "\n",
        "print(f\"Celsius temperatures: {celsius_temperatures}\")\n",
        "print(f\"Fahrenheit temperatures: {fahrenheit_temperatures}\")\n"
      ],
      "metadata": {
        "colab": {
          "base_uri": "https://localhost:8080/"
        },
        "id": "jRFlblJQ4sBQ",
        "outputId": "c3b001c4-6ed3-4913-81c6-22f64f47b95f"
      },
      "execution_count": 7,
      "outputs": [
        {
          "output_type": "stream",
          "name": "stdout",
          "text": [
            "Celsius temperatures: [0, 20, 25, 30, 35, 40]\n",
            "Fahrenheit temperatures: [32.0, 68.0, 77.0, 86.0, 95.0, 104.0]\n"
          ]
        }
      ]
    },
    {
      "cell_type": "code",
      "source": [
        "# Create a Python program that uses `filter()` to remove all the vowels from a given string.\n",
        "\n",
        "def is_not_vowel(char):\n",
        "    vowels = 'aeiouAEIOU'\n",
        "    return char not in vowels\n",
        "\n",
        "input_string = input(\"Enter a string: \")\n",
        "\n",
        "filtered_string = ''.join(filter(is_not_vowel, input_string))\n",
        "\n",
        "print(f\"String without vowels: {filtered_string}\")\n"
      ],
      "metadata": {
        "colab": {
          "base_uri": "https://localhost:8080/"
        },
        "id": "Hn6jqS1K46mz",
        "outputId": "be0a4673-6a30-4327-e7af-99921695e1d2"
      },
      "execution_count": 9,
      "outputs": [
        {
          "output_type": "stream",
          "name": "stdout",
          "text": [
            "Enter a string: iwedwhcawdefbwejw\n",
            "String without vowels: wdwhcwdfbwjw\n"
          ]
        }
      ]
    },
    {
      "cell_type": "code",
      "source": [],
      "metadata": {
        "id": "BXIjKg9j5EU9"
      },
      "execution_count": null,
      "outputs": []
    }
  ]
}